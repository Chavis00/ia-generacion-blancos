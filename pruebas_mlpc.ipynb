{
 "cells": [
  {
   "cell_type": "markdown",
   "metadata": {},
   "source": [
    "# Prueba de la red neuronal de Backpropagation para el Tiro Escuela del Ejército Argentino\n"
   ]
  },
  {
   "cell_type": "code",
   "execution_count": 1,
   "metadata": {
    "collapsed": true,
    "pycharm": {
     "name": "#%%\n"
    }
   },
   "outputs": [],
   "source": [
    "from modelo import tirador\n",
    "import numpy as np\n",
    "from sklearn.neural_network import MLPClassifier"
   ]
  },
  {
   "cell_type": "code",
   "execution_count": 2,
   "metadata": {
    "pycharm": {
     "name": "#%%\n"
    }
   },
   "outputs": [],
   "source": [
    "tirador = tirador.Tirador()\n",
    "clasificacion = []\n",
    "CANT_DATOS = 75000"
   ]
  },
  {
   "cell_type": "markdown",
   "metadata": {
    "collapsed": false,
    "pycharm": {
     "name": "#%% md\n"
    }
   },
   "source": [
    "Creamos CANT_DATOS muestras mitad aprobadas y mitad desaprobadas"
   ]
  },
  {
   "cell_type": "code",
   "execution_count": 3,
   "metadata": {
    "collapsed": false,
    "pycharm": {
     "name": "#%%\n"
    }
   },
   "outputs": [],
   "source": [
    "for _ in range(CANT_DATOS // 2):\n",
    "    tirador.tirar(max_ancho=6, max_alto=6)\n",
    "    clasificacion.append(1) # Lo clasificamos como 1 \"Aprobado\"\n",
    "    tirador.tirar_mal(max_ancho=24, max_alto=28)\n",
    "    clasificacion.append(0) # Lo clasificamos como 0 \"Desaprobado\""
   ]
  },
  {
   "cell_type": "markdown",
   "metadata": {
    "pycharm": {
     "name": "#%% md\n"
    }
   },
   "source": [
    "Metemos los datos en numpy arrays y los acomodamos"
   ]
  },
  {
   "cell_type": "code",
   "execution_count": 4,
   "metadata": {
    "collapsed": false,
    "pycharm": {
     "name": "#%%\n"
    }
   },
   "outputs": [],
   "source": [
    "matriz_datos = np.array(tirador.get_datos(), dtype=float)\n",
    "matriz_clasificacion = np.array(clasificacion, dtype=float)"
   ]
  },
  {
   "cell_type": "markdown",
   "metadata": {
    "collapsed": false,
    "pycharm": {
     "name": "#%% md\n"
    }
   },
   "source": [
    "Aplanamos los datos"
   ]
  },
  {
   "cell_type": "code",
   "execution_count": 5,
   "metadata": {
    "collapsed": false,
    "pycharm": {
     "name": "#%%\n"
    }
   },
   "outputs": [],
   "source": [
    "matriz_datos= matriz_datos.reshape(CANT_DATOS, 28 * 24)\n",
    "tirador.descartar_blancos()"
   ]
  },
  {
   "cell_type": "markdown",
   "metadata": {
    "pycharm": {
     "name": "#%% md\n"
    }
   },
   "source": [
    "## Creamos el perceptron y lo entrenamos"
   ]
  },
  {
   "cell_type": "code",
   "execution_count": 6,
   "metadata": {
    "collapsed": false,
    "pycharm": {
     "name": "#%%\n"
    }
   },
   "outputs": [
    {
     "name": "stdout",
     "output_type": "stream",
     "text": [
      "Iteration 1, loss = 0.69415601\n",
      "Iteration 2, loss = 0.58245286\n",
      "Iteration 3, loss = 0.44667560\n",
      "Iteration 4, loss = 0.39299469\n",
      "Iteration 5, loss = 0.36476786\n",
      "Iteration 6, loss = 0.34159085\n",
      "Iteration 7, loss = 0.32028826\n",
      "Iteration 8, loss = 0.29625221\n",
      "Iteration 9, loss = 0.26798436\n",
      "Iteration 10, loss = 0.23674029\n",
      "Iteration 11, loss = 0.20951258\n",
      "Iteration 12, loss = 0.18625541\n",
      "Iteration 13, loss = 0.16781293\n",
      "Iteration 14, loss = 0.14879459\n",
      "Iteration 15, loss = 0.13200820\n",
      "Iteration 16, loss = 0.11654262\n",
      "Iteration 17, loss = 0.10270410\n",
      "Iteration 18, loss = 0.08917403\n",
      "Iteration 19, loss = 0.07841355\n",
      "Iteration 20, loss = 0.06869537\n",
      "Iteration 21, loss = 0.05840957\n",
      "Iteration 22, loss = 0.05002284\n",
      "Iteration 23, loss = 0.04241460\n",
      "Iteration 24, loss = 0.03478488\n",
      "Iteration 25, loss = 0.03032043\n",
      "Iteration 26, loss = 0.02559146\n",
      "Iteration 27, loss = 0.02232721\n",
      "Iteration 28, loss = 0.01952826\n",
      "Iteration 29, loss = 0.01745582\n",
      "Iteration 30, loss = 0.01528534\n",
      "Iteration 31, loss = 0.01290750\n",
      "Iteration 32, loss = 0.01154792\n",
      "Iteration 33, loss = 0.01157089\n",
      "Iteration 34, loss = 0.01459460\n",
      "Iteration 35, loss = 0.01599784\n",
      "Iteration 36, loss = 0.01077188\n",
      "Iteration 37, loss = 0.00669673\n",
      "Iteration 38, loss = 0.00459678\n",
      "Iteration 39, loss = 0.00262809\n",
      "Iteration 40, loss = 0.00183239\n",
      "Iteration 41, loss = 0.00153072\n",
      "Iteration 42, loss = 0.00140573\n",
      "Iteration 43, loss = 0.00131374\n",
      "Iteration 44, loss = 0.00124302\n",
      "Iteration 45, loss = 0.00118131\n",
      "Iteration 46, loss = 0.00113301\n",
      "Iteration 47, loss = 0.00108722\n",
      "Iteration 48, loss = 0.00104784\n",
      "Iteration 49, loss = 0.00101403\n",
      "Iteration 50, loss = 0.00098593\n",
      "Iteration 51, loss = 0.00095993\n",
      "Iteration 52, loss = 0.00093621\n",
      "Iteration 53, loss = 0.00091563\n",
      "Training loss did not improve more than tol=0.000100 for 10 consecutive epochs. Stopping.\n"
     ]
    }
   ],
   "source": [
    "clf = MLPClassifier(solver='adam', activation=\"tanh\",max_iter=400, random_state=1,\n",
    "                    hidden_layer_sizes=(672//6,672//9,672//12), verbose=True)\n",
    "clf = clf.fit(matriz_datos, matriz_clasificacion)"
   ]
  },
  {
   "cell_type": "markdown",
   "metadata": {
    "pycharm": {
     "name": "#%% md\n"
    }
   },
   "source": [
    "Vamos a probar con el blanco real del cadete tipo A"
   ]
  },
  {
   "cell_type": "code",
   "execution_count": 7,
   "metadata": {
    "collapsed": false,
    "pycharm": {
     "name": "#%%\n"
    }
   },
   "outputs": [
    {
     "data": {
      "image/png": "[encoded data removed]",
      "text/plain": [
       "<Figure size 432x288 with 2 Axes>"
      ]
     },
     "metadata": {
      "needs_background": "light"
     },
     "output_type": "display_data"
    }
   ],
   "source": [
    "from blancos_reales import *\n",
    "from plot_disparos import heatmap, FILAS, COLUMNAS\n",
    "heatmap(blancoA, FILAS, COLUMNAS)\n",
    "blancoA = np.array(blancoA, dtype=float)\n",
    "blancoA = blancoA.reshape(1, 28 * 24)\n"
   ]
  },
  {
   "cell_type": "code",
   "execution_count": 8,
   "metadata": {
    "pycharm": {
     "name": "#%%\n"
    }
   },
   "outputs": [
    {
     "data": {
      "text/plain": [
       "array([1.])"
      ]
     },
     "execution_count": 8,
     "metadata": {},
     "output_type": "execute_result"
    }
   ],
   "source": [
    "clf.predict(blancoA)"
   ]
  },
  {
   "cell_type": "markdown",
   "metadata": {
    "pycharm": {
     "name": "#%% md\n"
    }
   },
   "source": [
    "Vamos a probar con el blanco real del cadete tipo B"
   ]
  },
  {
   "cell_type": "code",
   "execution_count": 9,
   "metadata": {
    "collapsed": false,
    "pycharm": {
     "name": "#%%\n"
    }
   },
   "outputs": [
    {
     "data": {
      "image/png": "[encoded data removed]",
      "text/plain": [
       "<Figure size 432x288 with 2 Axes>"
      ]
     },
     "metadata": {
      "needs_background": "light"
     },
     "output_type": "display_data"
    }
   ],
   "source": [
    "from blancos_reales import *\n",
    "from plot_disparos import heatmap, FILAS, COLUMNAS\n",
    "heatmap(blancoB, FILAS, COLUMNAS)\n",
    "blancoB = np.array(blancoB, dtype=float)\n",
    "blancoB = blancoB.reshape(1, 28 * 24)"
   ]
  },
  {
   "cell_type": "code",
   "execution_count": 10,
   "metadata": {
    "pycharm": {
     "name": "#%%\n"
    }
   },
   "outputs": [
    {
     "data": {
      "text/plain": [
       "array([0.])"
      ]
     },
     "execution_count": 10,
     "metadata": {},
     "output_type": "execute_result"
    }
   ],
   "source": [
    "clf.predict(blancoB)"
   ]
  },
  {
   "cell_type": "markdown",
   "metadata": {
    "pycharm": {
     "name": "#%% md\n"
    }
   },
   "source": [
    "Vamos a probar con el blanco real del cadete tipo C"
   ]
  },
  {
   "cell_type": "code",
   "execution_count": 11,
   "metadata": {
    "collapsed": false,
    "pycharm": {
     "name": "#%%\n"
    }
   },
   "outputs": [
    {
     "data": {
      "image/png": "[encoded data removed]",
      "text/plain": [
       "<Figure size 432x288 with 2 Axes>"
      ]
     },
     "metadata": {
      "needs_background": "light"
     },
     "output_type": "display_data"
    }
   ],
   "source": [
    "from blancos_reales import *\n",
    "from plot_disparos import heatmap, FILAS, COLUMNAS\n",
    "heatmap(blancoC, FILAS, COLUMNAS)\n",
    "blancoC = np.array(blancoC, dtype=float)\n",
    "blancoC = blancoC.reshape(1, 28 * 24)"
   ]
  },
  {
   "cell_type": "code",
   "execution_count": 12,
   "metadata": {
    "pycharm": {
     "name": "#%%\n"
    }
   },
   "outputs": [
    {
     "data": {
      "text/plain": [
       "array([0.])"
      ]
     },
     "execution_count": 12,
     "metadata": {},
     "output_type": "execute_result"
    }
   ],
   "source": [
    "clf.predict(blancoC)"
   ]
  },
  {
   "cell_type": "markdown",
   "metadata": {
    "pycharm": {
     "name": "#%% md\n"
    }
   },
   "source": [
    "Vamos a probar con el blanco real del cadete tipo D"
   ]
  },
  {
   "cell_type": "code",
   "execution_count": 13,
   "metadata": {
    "collapsed": false,
    "pycharm": {
     "name": "#%%\n"
    }
   },
   "outputs": [
    {
     "data": {
      "image/png": "[encoded data removed]",
      "text/plain": [
       "<Figure size 432x288 with 2 Axes>"
      ]
     },
     "metadata": {
      "needs_background": "light"
     },
     "output_type": "display_data"
    }
   ],
   "source": [
    "from blancos_reales import *\n",
    "from plot_disparos import heatmap, FILAS, COLUMNAS\n",
    "heatmap(blancoD, FILAS, COLUMNAS)\n",
    "blancoD = np.array(blancoD, dtype=float)\n",
    "blancoD = blancoD.reshape(1, 28 * 24)"
   ]
  },
  {
   "cell_type": "code",
   "execution_count": 14,
   "metadata": {
    "pycharm": {
     "name": "#%%\n"
    }
   },
   "outputs": [
    {
     "data": {
      "text/plain": [
       "array([1.])"
      ]
     },
     "execution_count": 14,
     "metadata": {},
     "output_type": "execute_result"
    }
   ],
   "source": [
    "clf.predict(blancoD)"
   ]
  },
  {
   "cell_type": "markdown",
   "metadata": {
    "pycharm": {
     "name": "#%% md\n"
    }
   },
   "source": [
    "Vamos a probar con el blanco real del cadete tipo E"
   ]
  },
  {
   "cell_type": "code",
   "execution_count": 15,
   "metadata": {
    "collapsed": false,
    "pycharm": {
     "name": "#%%\n"
    }
   },
   "outputs": [
    {
     "data": {
      "image/png": "[encoded data removed]",
      "text/plain": [
       "<Figure size 432x288 with 2 Axes>"
      ]
     },
     "metadata": {
      "needs_background": "light"
     },
     "output_type": "display_data"
    }
   ],
   "source": [
    "from blancos_reales import *\n",
    "from plot_disparos import heatmap, FILAS, COLUMNAS\n",
    "heatmap(blancoE, FILAS, COLUMNAS)\n",
    "blancoE = np.array(blancoE, dtype=float)\n",
    "blancoE = blancoE.reshape(1, 28 * 24)"
   ]
  },
  {
   "cell_type": "code",
   "execution_count": 16,
   "metadata": {
    "pycharm": {
     "name": "#%%\n"
    }
   },
   "outputs": [
    {
     "data": {
      "text/plain": [
       "array([1.])"
      ]
     },
     "execution_count": 16,
     "metadata": {},
     "output_type": "execute_result"
    }
   ],
   "source": [
    "clf.predict(blancoE)"
   ]
  },
  {
   "cell_type": "markdown",
   "metadata": {
    "pycharm": {
     "name": "#%% md\n"
    }
   },
   "source": [
    "Vamos a probar con el blanco real del cadete tipo F"
   ]
  },
  {
   "cell_type": "code",
   "execution_count": 17,
   "metadata": {
    "collapsed": false,
    "pycharm": {
     "name": "#%%\n"
    }
   },
   "outputs": [
    {
     "data": {
      "image/png": "[encoded data removed]",
      "text/plain": [
       "<Figure size 432x288 with 2 Axes>"
      ]
     },
     "metadata": {
      "needs_background": "light"
     },
     "output_type": "display_data"
    }
   ],
   "source": [
    "from blancos_reales import *\n",
    "from plot_disparos import heatmap, FILAS, COLUMNAS\n",
    "heatmap(blancoF, FILAS, COLUMNAS)\n",
    "blanco1 = np.array(blancoF, dtype=float)\n",
    "blancoF = blancoF.reshape(1, 28 * 24)"
   ]
  },
  {
   "cell_type": "code",
   "execution_count": 18,
   "metadata": {
    "pycharm": {
     "name": "#%%\n"
    }
   },
   "outputs": [
    {
     "data": {
      "text/plain": [
       "array([0.])"
      ]
     },
     "execution_count": 18,
     "metadata": {},
     "output_type": "execute_result"
    }
   ],
   "source": [
    "clf.predict(blancoF)"
   ]
  }
 ],
 "metadata": {
  "kernelspec": {
   "display_name": "Python 3.9.2 64-bit",
   "language": "python",
   "name": "python3"
  },
  "language_info": {
   "codemirror_mode": {
    "name": "ipython",
    "version": 3
   },
   "file_extension": ".py",
   "mimetype": "text/x-python",
   "name": "python",
   "nbconvert_exporter": "python",
   "pygments_lexer": "ipython3",
   "version": "3.9.2"
  },
  "vscode": {
   "interpreter": {
    "hash": "83606ed56cc8435feba371fc17a12c40c235e99e407ad2375e76091b071756a9"
   }
  }
 },
 "nbformat": 4,
 "nbformat_minor": 1
}
